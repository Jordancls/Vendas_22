{
 "cells": [
  {
   "cell_type": "code",
   "execution_count": 3,
   "id": "e412b6ad",
   "metadata": {},
   "outputs": [],
   "source": [
    "import pandas as pd\n",
    "import seaborn as sns\n",
    "import matplotlib.pyplot as plt\n",
    "import numpy as np\n",
    "import os\n",
    "from pandas import Series, DataFrame\n",
    "from sklearn.model_selection  import train_test_split\n",
    "from sklearn.tree import DecisionTreeClassifier\n",
    "from sklearn.metrics import classification_report\n",
    "import sklearn.metrics"
   ]
  },
  {
   "cell_type": "code",
   "execution_count": 15,
   "id": "213e50ab",
   "metadata": {},
   "outputs": [
    {
     "data": {
      "text/html": [
       "<div>\n",
       "<style scoped>\n",
       "    .dataframe tbody tr th:only-of-type {\n",
       "        vertical-align: middle;\n",
       "    }\n",
       "\n",
       "    .dataframe tbody tr th {\n",
       "        vertical-align: top;\n",
       "    }\n",
       "\n",
       "    .dataframe thead th {\n",
       "        text-align: right;\n",
       "    }\n",
       "</style>\n",
       "<table border=\"1\" class=\"dataframe\">\n",
       "  <thead>\n",
       "    <tr style=\"text-align: right;\">\n",
       "      <th></th>\n",
       "      <th>Cliente</th>\n",
       "      <th>Pedido</th>\n",
       "      <th>Área</th>\n",
       "      <th>Total c/ICMS Subst</th>\n",
       "      <th>Total</th>\n",
       "      <th>Dt Entrada</th>\n",
       "      <th>Dt Conclusão</th>\n",
       "      <th>Dt NotaFiscal</th>\n",
       "      <th>Serviço</th>\n",
       "      <th>Status</th>\n",
       "    </tr>\n",
       "  </thead>\n",
       "  <tbody>\n",
       "    <tr>\n",
       "      <th>0</th>\n",
       "      <td>BAZAR QUITUNGO-2589</td>\n",
       "      <td>1451</td>\n",
       "      <td>24.75</td>\n",
       "      <td>1801.71</td>\n",
       "      <td>2573.87</td>\n",
       "      <td>2022-01-03</td>\n",
       "      <td>2022-01-24 00:00:00</td>\n",
       "      <td>2022-01-26 00:00:00</td>\n",
       "      <td>BOX PADRÃO-ICFL08</td>\n",
       "      <td>Concluído</td>\n",
       "    </tr>\n",
       "    <tr>\n",
       "      <th>1</th>\n",
       "      <td>BAZAR QUITUNGO-2589</td>\n",
       "      <td>1454</td>\n",
       "      <td>20.25</td>\n",
       "      <td>1474.23</td>\n",
       "      <td>2106.04</td>\n",
       "      <td>2022-01-03</td>\n",
       "      <td>2022-03-11 00:00:00</td>\n",
       "      <td>2022-03-16 00:00:00</td>\n",
       "      <td>BOX PADRÃO-ICFL08</td>\n",
       "      <td>Concluído</td>\n",
       "    </tr>\n",
       "    <tr>\n",
       "      <th>2</th>\n",
       "      <td>BAZAR QUITUNGO-2589</td>\n",
       "      <td>1458</td>\n",
       "      <td>35.10</td>\n",
       "      <td>2555.33</td>\n",
       "      <td>3650.47</td>\n",
       "      <td>2022-01-03</td>\n",
       "      <td>2022-03-10 00:00:00</td>\n",
       "      <td>2022-03-16 00:00:00</td>\n",
       "      <td>BOX PADRÃO-ICFL08</td>\n",
       "      <td>Concluído</td>\n",
       "    </tr>\n",
       "    <tr>\n",
       "      <th>3</th>\n",
       "      <td>BAZAR QUITUNGO-2589</td>\n",
       "      <td>1452</td>\n",
       "      <td>4.30</td>\n",
       "      <td>340.11</td>\n",
       "      <td>485.87</td>\n",
       "      <td>2022-01-03</td>\n",
       "      <td>2022-02-09 00:00:00</td>\n",
       "      <td>2022-02-18 00:00:00</td>\n",
       "      <td>JANELA-ICFL08</td>\n",
       "      <td>Concluído</td>\n",
       "    </tr>\n",
       "    <tr>\n",
       "      <th>4</th>\n",
       "      <td>BAZAR QUITUNGO-2589</td>\n",
       "      <td>1455</td>\n",
       "      <td>9.60</td>\n",
       "      <td>759.33</td>\n",
       "      <td>1084.76</td>\n",
       "      <td>2022-01-03</td>\n",
       "      <td>2022-02-24 00:00:00</td>\n",
       "      <td>2022-03-07 00:00:00</td>\n",
       "      <td>JANELA-ICFL08</td>\n",
       "      <td>Concluído</td>\n",
       "    </tr>\n",
       "  </tbody>\n",
       "</table>\n",
       "</div>"
      ],
      "text/plain": [
       "                Cliente Pedido  Área   Total c/ICMS Subst     Total  \\\n",
       "0   BAZAR QUITUNGO-2589   1451  24.75              1801.71  2573.87   \n",
       "1   BAZAR QUITUNGO-2589   1454  20.25              1474.23  2106.04   \n",
       "2   BAZAR QUITUNGO-2589   1458  35.10              2555.33  3650.47   \n",
       "3   BAZAR QUITUNGO-2589   1452   4.30               340.11   485.87   \n",
       "4   BAZAR QUITUNGO-2589   1455   9.60               759.33  1084.76   \n",
       "\n",
       "  Dt Entrada         Dt Conclusão        Dt NotaFiscal             Serviço  \\\n",
       "0 2022-01-03  2022-01-24 00:00:00  2022-01-26 00:00:00   BOX PADRÃO-ICFL08   \n",
       "1 2022-01-03  2022-03-11 00:00:00  2022-03-16 00:00:00   BOX PADRÃO-ICFL08   \n",
       "2 2022-01-03  2022-03-10 00:00:00  2022-03-16 00:00:00   BOX PADRÃO-ICFL08   \n",
       "3 2022-01-03  2022-02-09 00:00:00  2022-02-18 00:00:00       JANELA-ICFL08   \n",
       "4 2022-01-03  2022-02-24 00:00:00  2022-03-07 00:00:00       JANELA-ICFL08   \n",
       "\n",
       "      Status  \n",
       "0  Concluído  \n",
       "1  Concluído  \n",
       "2  Concluído  \n",
       "3  Concluído  \n",
       "4  Concluído  "
      ]
     },
     "execution_count": 15,
     "metadata": {},
     "output_type": "execute_result"
    }
   ],
   "source": [
    "df = pd.read_excel(\"Vendas_22.xlsx\")\n",
    "df.head()\n"
   ]
  },
  {
   "cell_type": "code",
   "execution_count": 16,
   "id": "f9dc1dce",
   "metadata": {},
   "outputs": [
    {
     "name": "stdout",
     "output_type": "stream",
     "text": [
      "2022-01-03\n"
     ]
    }
   ],
   "source": [
    "#inicio da analise\n",
    "inicio = pd.to_datetime(df['Dt Entrada']).dt.date.min()\n",
    "print(inicio)"
   ]
  },
  {
   "cell_type": "code",
   "execution_count": 17,
   "id": "9d521b06",
   "metadata": {},
   "outputs": [
    {
     "name": "stdout",
     "output_type": "stream",
     "text": [
      "2022-11-08\n"
     ]
    }
   ],
   "source": [
    "#inicio da analise\n",
    "fim = pd.to_datetime(df['Dt Entrada']).dt.date.max()\n",
    "print(fim)"
   ]
  },
  {
   "cell_type": "code",
   "execution_count": 18,
   "id": "317d92cc",
   "metadata": {},
   "outputs": [
    {
     "data": {
      "text/plain": [
       "Cliente                        object\n",
       "Pedido                         object\n",
       "Área                          float64\n",
       "Total c/ICMS Subst            float64\n",
       "Total                         float64\n",
       "Dt Entrada             datetime64[ns]\n",
       "Dt Conclusão                   object\n",
       "Dt NotaFiscal                  object\n",
       "Serviço                        object\n",
       "Status                         object\n",
       "dtype: object"
      ]
     },
     "execution_count": 18,
     "metadata": {},
     "output_type": "execute_result"
    }
   ],
   "source": [
    "df.dtypes"
   ]
  },
  {
   "cell_type": "code",
   "execution_count": 19,
   "id": "dfdc2a69",
   "metadata": {},
   "outputs": [
    {
     "data": {
      "text/plain": [
       "Cliente                  268\n",
       "Pedido                 18545\n",
       "Área                    2334\n",
       "Total c/ICMS Subst     15243\n",
       "Total                  14210\n",
       "Dt Entrada               213\n",
       "Dt Conclusão             246\n",
       "Dt NotaFiscal            213\n",
       "Serviço                  104\n",
       "Status                     6\n",
       "dtype: int64"
      ]
     },
     "execution_count": 19,
     "metadata": {},
     "output_type": "execute_result"
    }
   ],
   "source": [
    "df.nunique()"
   ]
  },
  {
   "cell_type": "code",
   "execution_count": 20,
   "id": "9ad4e84c",
   "metadata": {},
   "outputs": [
    {
     "data": {
      "text/html": [
       "<div>\n",
       "<style scoped>\n",
       "    .dataframe tbody tr th:only-of-type {\n",
       "        vertical-align: middle;\n",
       "    }\n",
       "\n",
       "    .dataframe tbody tr th {\n",
       "        vertical-align: top;\n",
       "    }\n",
       "\n",
       "    .dataframe thead th {\n",
       "        text-align: right;\n",
       "    }\n",
       "</style>\n",
       "<table border=\"1\" class=\"dataframe\">\n",
       "  <thead>\n",
       "    <tr style=\"text-align: right;\">\n",
       "      <th></th>\n",
       "      <th>Área</th>\n",
       "      <th>Total c/ICMS Subst</th>\n",
       "      <th>Total</th>\n",
       "    </tr>\n",
       "  </thead>\n",
       "  <tbody>\n",
       "    <tr>\n",
       "      <th>count</th>\n",
       "      <td>28118.000000</td>\n",
       "      <td>28118.000000</td>\n",
       "      <td>28118.000000</td>\n",
       "    </tr>\n",
       "    <tr>\n",
       "      <th>mean</th>\n",
       "      <td>5.489742</td>\n",
       "      <td>621.971853</td>\n",
       "      <td>793.374579</td>\n",
       "    </tr>\n",
       "    <tr>\n",
       "      <th>std</th>\n",
       "      <td>20.748069</td>\n",
       "      <td>1929.649507</td>\n",
       "      <td>2447.704099</td>\n",
       "    </tr>\n",
       "    <tr>\n",
       "      <th>min</th>\n",
       "      <td>0.300000</td>\n",
       "      <td>0.000000</td>\n",
       "      <td>0.000000</td>\n",
       "    </tr>\n",
       "    <tr>\n",
       "      <th>25%</th>\n",
       "      <td>0.990000</td>\n",
       "      <td>109.217500</td>\n",
       "      <td>144.900000</td>\n",
       "    </tr>\n",
       "    <tr>\n",
       "      <th>50%</th>\n",
       "      <td>1.830000</td>\n",
       "      <td>225.775000</td>\n",
       "      <td>296.140000</td>\n",
       "    </tr>\n",
       "    <tr>\n",
       "      <th>75%</th>\n",
       "      <td>3.720000</td>\n",
       "      <td>501.710000</td>\n",
       "      <td>630.252500</td>\n",
       "    </tr>\n",
       "    <tr>\n",
       "      <th>max</th>\n",
       "      <td>924.750000</td>\n",
       "      <td>73981.500000</td>\n",
       "      <td>92476.880000</td>\n",
       "    </tr>\n",
       "  </tbody>\n",
       "</table>\n",
       "</div>"
      ],
      "text/plain": [
       "              Área   Total c/ICMS Subst          Total\n",
       "count  28118.000000         28118.000000  28118.000000\n",
       "mean       5.489742           621.971853    793.374579\n",
       "std       20.748069          1929.649507   2447.704099\n",
       "min        0.300000             0.000000      0.000000\n",
       "25%        0.990000           109.217500    144.900000\n",
       "50%        1.830000           225.775000    296.140000\n",
       "75%        3.720000           501.710000    630.252500\n",
       "max      924.750000         73981.500000  92476.880000"
      ]
     },
     "execution_count": 20,
     "metadata": {},
     "output_type": "execute_result"
    }
   ],
   "source": [
    "df.describe()"
   ]
  },
  {
   "cell_type": "code",
   "execution_count": 22,
   "id": "af772ecd",
   "metadata": {},
   "outputs": [
    {
     "ename": "KeyError",
     "evalue": "\"['Área'] not in index\"",
     "output_type": "error",
     "traceback": [
      "\u001b[1;31m---------------------------------------------------------------------------\u001b[0m",
      "\u001b[1;31mKeyError\u001b[0m                                  Traceback (most recent call last)",
      "\u001b[1;32m<ipython-input-22-7165419e4ec0>\u001b[0m in \u001b[0;36m<module>\u001b[1;34m\u001b[0m\n\u001b[0;32m      1\u001b[0m \u001b[1;31m# total M² por Cliente\u001b[0m\u001b[1;33m\u001b[0m\u001b[1;33m\u001b[0m\u001b[1;33m\u001b[0m\u001b[0m\n\u001b[1;32m----> 2\u001b[1;33m \u001b[0mtotal_m\u001b[0m\u001b[1;33m=\u001b[0m \u001b[0mdf\u001b[0m \u001b[1;33m[\u001b[0m\u001b[1;33m[\u001b[0m\u001b[1;34m'Cliente'\u001b[0m\u001b[1;33m,\u001b[0m \u001b[1;34m'Área'\u001b[0m\u001b[1;33m]\u001b[0m\u001b[1;33m]\u001b[0m\u001b[1;33m.\u001b[0m\u001b[0mgroupby\u001b[0m\u001b[1;33m(\u001b[0m\u001b[1;34m'Cliente'\u001b[0m\u001b[1;33m)\u001b[0m\u001b[1;33m.\u001b[0m\u001b[0msum\u001b[0m\u001b[1;33m(\u001b[0m\u001b[1;33m)\u001b[0m\u001b[1;33m\u001b[0m\u001b[1;33m\u001b[0m\u001b[0m\n\u001b[0m\u001b[0;32m      3\u001b[0m \u001b[0mdisplay\u001b[0m\u001b[1;33m(\u001b[0m\u001b[0mtotal_m\u001b[0m\u001b[1;33m)\u001b[0m\u001b[1;33m\u001b[0m\u001b[1;33m\u001b[0m\u001b[0m\n",
      "\u001b[1;32m~\\Anaconda3\\lib\\site-packages\\pandas\\core\\frame.py\u001b[0m in \u001b[0;36m__getitem__\u001b[1;34m(self, key)\u001b[0m\n\u001b[0;32m   3028\u001b[0m             \u001b[1;32mif\u001b[0m \u001b[0mis_iterator\u001b[0m\u001b[1;33m(\u001b[0m\u001b[0mkey\u001b[0m\u001b[1;33m)\u001b[0m\u001b[1;33m:\u001b[0m\u001b[1;33m\u001b[0m\u001b[1;33m\u001b[0m\u001b[0m\n\u001b[0;32m   3029\u001b[0m                 \u001b[0mkey\u001b[0m \u001b[1;33m=\u001b[0m \u001b[0mlist\u001b[0m\u001b[1;33m(\u001b[0m\u001b[0mkey\u001b[0m\u001b[1;33m)\u001b[0m\u001b[1;33m\u001b[0m\u001b[1;33m\u001b[0m\u001b[0m\n\u001b[1;32m-> 3030\u001b[1;33m             \u001b[0mindexer\u001b[0m \u001b[1;33m=\u001b[0m \u001b[0mself\u001b[0m\u001b[1;33m.\u001b[0m\u001b[0mloc\u001b[0m\u001b[1;33m.\u001b[0m\u001b[0m_get_listlike_indexer\u001b[0m\u001b[1;33m(\u001b[0m\u001b[0mkey\u001b[0m\u001b[1;33m,\u001b[0m \u001b[0maxis\u001b[0m\u001b[1;33m=\u001b[0m\u001b[1;36m1\u001b[0m\u001b[1;33m,\u001b[0m \u001b[0mraise_missing\u001b[0m\u001b[1;33m=\u001b[0m\u001b[1;32mTrue\u001b[0m\u001b[1;33m)\u001b[0m\u001b[1;33m[\u001b[0m\u001b[1;36m1\u001b[0m\u001b[1;33m]\u001b[0m\u001b[1;33m\u001b[0m\u001b[1;33m\u001b[0m\u001b[0m\n\u001b[0m\u001b[0;32m   3031\u001b[0m \u001b[1;33m\u001b[0m\u001b[0m\n\u001b[0;32m   3032\u001b[0m         \u001b[1;31m# take() does not accept boolean indexers\u001b[0m\u001b[1;33m\u001b[0m\u001b[1;33m\u001b[0m\u001b[1;33m\u001b[0m\u001b[0m\n",
      "\u001b[1;32m~\\Anaconda3\\lib\\site-packages\\pandas\\core\\indexing.py\u001b[0m in \u001b[0;36m_get_listlike_indexer\u001b[1;34m(self, key, axis, raise_missing)\u001b[0m\n\u001b[0;32m   1264\u001b[0m             \u001b[0mkeyarr\u001b[0m\u001b[1;33m,\u001b[0m \u001b[0mindexer\u001b[0m\u001b[1;33m,\u001b[0m \u001b[0mnew_indexer\u001b[0m \u001b[1;33m=\u001b[0m \u001b[0max\u001b[0m\u001b[1;33m.\u001b[0m\u001b[0m_reindex_non_unique\u001b[0m\u001b[1;33m(\u001b[0m\u001b[0mkeyarr\u001b[0m\u001b[1;33m)\u001b[0m\u001b[1;33m\u001b[0m\u001b[1;33m\u001b[0m\u001b[0m\n\u001b[0;32m   1265\u001b[0m \u001b[1;33m\u001b[0m\u001b[0m\n\u001b[1;32m-> 1266\u001b[1;33m         \u001b[0mself\u001b[0m\u001b[1;33m.\u001b[0m\u001b[0m_validate_read_indexer\u001b[0m\u001b[1;33m(\u001b[0m\u001b[0mkeyarr\u001b[0m\u001b[1;33m,\u001b[0m \u001b[0mindexer\u001b[0m\u001b[1;33m,\u001b[0m \u001b[0maxis\u001b[0m\u001b[1;33m,\u001b[0m \u001b[0mraise_missing\u001b[0m\u001b[1;33m=\u001b[0m\u001b[0mraise_missing\u001b[0m\u001b[1;33m)\u001b[0m\u001b[1;33m\u001b[0m\u001b[1;33m\u001b[0m\u001b[0m\n\u001b[0m\u001b[0;32m   1267\u001b[0m         \u001b[1;32mreturn\u001b[0m \u001b[0mkeyarr\u001b[0m\u001b[1;33m,\u001b[0m \u001b[0mindexer\u001b[0m\u001b[1;33m\u001b[0m\u001b[1;33m\u001b[0m\u001b[0m\n\u001b[0;32m   1268\u001b[0m \u001b[1;33m\u001b[0m\u001b[0m\n",
      "\u001b[1;32m~\\Anaconda3\\lib\\site-packages\\pandas\\core\\indexing.py\u001b[0m in \u001b[0;36m_validate_read_indexer\u001b[1;34m(self, key, indexer, axis, raise_missing)\u001b[0m\n\u001b[0;32m   1314\u001b[0m             \u001b[1;32mif\u001b[0m \u001b[0mraise_missing\u001b[0m\u001b[1;33m:\u001b[0m\u001b[1;33m\u001b[0m\u001b[1;33m\u001b[0m\u001b[0m\n\u001b[0;32m   1315\u001b[0m                 \u001b[0mnot_found\u001b[0m \u001b[1;33m=\u001b[0m \u001b[0mlist\u001b[0m\u001b[1;33m(\u001b[0m\u001b[0mset\u001b[0m\u001b[1;33m(\u001b[0m\u001b[0mkey\u001b[0m\u001b[1;33m)\u001b[0m \u001b[1;33m-\u001b[0m \u001b[0mset\u001b[0m\u001b[1;33m(\u001b[0m\u001b[0max\u001b[0m\u001b[1;33m)\u001b[0m\u001b[1;33m)\u001b[0m\u001b[1;33m\u001b[0m\u001b[1;33m\u001b[0m\u001b[0m\n\u001b[1;32m-> 1316\u001b[1;33m                 \u001b[1;32mraise\u001b[0m \u001b[0mKeyError\u001b[0m\u001b[1;33m(\u001b[0m\u001b[1;34mf\"{not_found} not in index\"\u001b[0m\u001b[1;33m)\u001b[0m\u001b[1;33m\u001b[0m\u001b[1;33m\u001b[0m\u001b[0m\n\u001b[0m\u001b[0;32m   1317\u001b[0m \u001b[1;33m\u001b[0m\u001b[0m\n\u001b[0;32m   1318\u001b[0m             \u001b[0mnot_found\u001b[0m \u001b[1;33m=\u001b[0m \u001b[0mkey\u001b[0m\u001b[1;33m[\u001b[0m\u001b[0mmissing_mask\u001b[0m\u001b[1;33m]\u001b[0m\u001b[1;33m\u001b[0m\u001b[1;33m\u001b[0m\u001b[0m\n",
      "\u001b[1;31mKeyError\u001b[0m: \"['Área'] not in index\""
     ]
    }
   ],
   "source": [
    "# total M² por Cliente\n",
    "total_m= df [['Cliente', 'Área']].groupby('Cliente').sum()\n",
    "display(total_m)"
   ]
  },
  {
   "cell_type": "code",
   "execution_count": null,
   "id": "8abace4a",
   "metadata": {},
   "outputs": [],
   "source": []
  }
 ],
 "metadata": {
  "kernelspec": {
   "display_name": "Python 3",
   "language": "python",
   "name": "python3"
  },
  "language_info": {
   "codemirror_mode": {
    "name": "ipython",
    "version": 3
   },
   "file_extension": ".py",
   "mimetype": "text/x-python",
   "name": "python",
   "nbconvert_exporter": "python",
   "pygments_lexer": "ipython3",
   "version": "3.8.8"
  }
 },
 "nbformat": 4,
 "nbformat_minor": 5
}
